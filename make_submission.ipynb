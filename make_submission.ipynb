{
 "cells": [
  {
   "cell_type": "code",
   "execution_count": null,
   "id": "a15b4f14-0c86-4a8b-acd7-79a41fa426ce",
   "metadata": {},
   "outputs": [],
   "source": [
    "CHECKPOINT_NAME = \"/home/seva/Projects/weld_project/best.pt\"\n",
    "DATA_DIR = \"/home/seva/Projects/weld_data\""
   ]
  },
  {
   "cell_type": "code",
   "execution_count": 1,
   "id": "1199b0b0-7c65-42ba-96bf-6dc27d293c99",
   "metadata": {
    "tags": []
   },
   "outputs": [],
   "source": [
    "import torch\n",
    "import pandas as pd\n",
    "from tqdm import tqdm\n",
    "from ultralytics import YOLO\n"
   ]
  },
  {
   "cell_type": "markdown",
   "id": "8faed67e-8145-4f99-91ff-e4b256d3f9db",
   "metadata": {},
   "source": [
    "## Making submission"
   ]
  },
  {
   "cell_type": "code",
   "execution_count": 5,
   "id": "12fd7dcc-149f-4d5a-9ecc-19c8cfccbd78",
   "metadata": {},
   "outputs": [],
   "source": [
    "model = YOLO(CHECKPOINT_NAME)\n",
    "source = DATA_DIR"
   ]
  },
  {
   "cell_type": "code",
   "execution_count": 36,
   "id": "d46694cb-c87b-4dca-824e-105022d3c722",
   "metadata": {},
   "outputs": [
    {
     "name": "stdout",
     "output_type": "stream",
     "text": [
      "\n",
      "image 1/1162 /home/seva/Projects/weld_data/1 (1).jpg: 640x1088 4 adjs, 3 geos, 1931.5ms\n"
     ]
    }
   ],
   "source": [
    "results = model(source, stream=True)  # generator of Results objects\n",
    "counter = 0\n",
    "\n",
    "df = pd.DataFrame({\n",
    "    \"filename\": [],\n",
    "    \"class_id\": [],\n",
    "    \"rel_x\": [],\n",
    "    \"rel_y\": [],\n",
    "    \"width\": [],\n",
    "    \"height\": [],\n",
    "    \"conf\": [],\n",
    "})\n",
    "\n",
    "for item in results:\n",
    "    boxes = item.boxes\n",
    "    \n",
    "    img_name = item.path.split(\"/\")[-1]\n",
    "    class_ids = boxes.cls.numpy()\n",
    "    xywhn = boxes.xywhn.numpy()\n",
    "    conf = boxes.conf.numpy()\n",
    "\n",
    "    for cls, arr, con in zip(class_ids, xywhn, conf):\n",
    "        row = [\n",
    "            img_name,\n",
    "            int(cls),\n",
    "            arr[0],\n",
    "            arr[1],\n",
    "            arr[2],\n",
    "            arr[3],\n",
    "            con\n",
    "        ]\n",
    "        df.loc[len(df)] = row\n",
    "    counter += 1\n",
    "df.to_csv(\"sumbission_new.csv\", index=False, sep=\";\")\n"
   ]
  },
  {
   "cell_type": "code",
   "execution_count": 44,
   "id": "1205c11d-ef4c-4799-9782-210c2b56356e",
   "metadata": {},
   "outputs": [],
   "source": [
    "# df_new = df[\"filename class_id rel_x rel_y width height\".split()]\n",
    "# df_new.to_csv(\"sumbission_v1.csv\", index=False, sep=\";\")\n"
   ]
  },
  {
   "cell_type": "code",
   "execution_count": null,
   "id": "96185a7c-6804-459e-a0bd-5ad8da988f6d",
   "metadata": {},
   "outputs": [],
   "source": []
  },
  {
   "cell_type": "code",
   "execution_count": 43,
   "id": "929d19be-96d3-49eb-9d41-958e764c4e3c",
   "metadata": {},
   "outputs": [],
   "source": [
    "# 0.406935 - 0.371659"
   ]
  },
  {
   "cell_type": "code",
   "execution_count": 45,
   "id": "e29fd521-d069-406e-97e9-d1bfb5a27202",
   "metadata": {},
   "outputs": [],
   "source": [
    "# corrected_df = pd.read_csv(\"sumbission_old.csv\", sep=\";\")\n",
    "# corrected_df_one = corrected_df.copy()\n",
    "# corrected_df_one['rel_x'] = (corrected_df['rel_x'] + corrected_df['width']) / 2\n",
    "# corrected_df_one['rel_y'] = (corrected_df['rel_y'] + corrected_df['height']) / 2\n",
    "# corrected_df_one['width'] = -corrected_df['rel_x'] + corrected_df['width']\n",
    "# corrected_df_one['height'] = -corrected_df['rel_y'] + corrected_df['height']\n",
    "\n",
    "# corrected_df_one.to_csv(\"sumbission_new_corrected.csv\", index=False, sep=\";\")\n"
   ]
  },
  {
   "cell_type": "code",
   "execution_count": null,
   "id": "c09ad2c1-bf55-4b98-93f9-b4fdd942e9cc",
   "metadata": {},
   "outputs": [],
   "source": []
  }
 ],
 "metadata": {
  "kernelspec": {
   "display_name": "Python 3 (ipykernel)",
   "language": "python",
   "name": "python3"
  },
  "language_info": {
   "codemirror_mode": {
    "name": "ipython",
    "version": 3
   },
   "file_extension": ".py",
   "mimetype": "text/x-python",
   "name": "python",
   "nbconvert_exporter": "python",
   "pygments_lexer": "ipython3",
   "version": "3.12.2"
  }
 },
 "nbformat": 4,
 "nbformat_minor": 5
}
