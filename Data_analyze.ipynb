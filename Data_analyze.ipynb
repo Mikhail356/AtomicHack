{
 "cells": [
  {
   "cell_type": "code",
   "execution_count": null,
   "id": "3f695a42-b3ac-489a-be10-4d0a339dba2f",
   "metadata": {
    "execution": {
     "iopub.status.busy": "2024-06-14T17:52:16.163376836Z",
     "iopub.status.idle": "2024-06-14T17:52:16.165102392Z",
     "shell.execute_reply": "2024-06-14T17:52:16.163330938Z"
    },
    "tags": []
   },
   "outputs": [
    {
     "ename": "Unknown instance spec",
     "evalue": "",
     "output_type": "error",
     "traceback": []
    }
   ],
   "source": [
    "!ls"
   ]
  },
  {
   "cell_type": "code",
   "execution_count": 2,
   "id": "d29f0ec2-3a79-4444-ba11-bceb62fdb2c0",
   "metadata": {
    "execution": {
     "iopub.execute_input": "2024-06-14T18:03:36.623315Z",
     "iopub.status.busy": "2024-06-14T18:03:36.622291Z",
     "iopub.status.idle": "2024-06-14T18:03:36.633604Z",
     "shell.execute_reply": "2024-06-14T18:03:36.632914Z",
     "shell.execute_reply.started": "2024-06-14T18:03:36.623275Z"
    },
    "tags": []
   },
   "outputs": [],
   "source": [
    "import os"
   ]
  },
  {
   "cell_type": "code",
   "execution_count": 3,
   "id": "1950516f-ccb8-4194-8d79-c7625fc27f31",
   "metadata": {
    "execution": {
     "iopub.execute_input": "2024-06-14T18:03:51.625630Z",
     "iopub.status.busy": "2024-06-14T18:03:51.624400Z",
     "iopub.status.idle": "2024-06-14T18:03:51.669789Z",
     "shell.execute_reply": "2024-06-14T18:03:51.669003Z",
     "shell.execute_reply.started": "2024-06-14T18:03:51.625582Z"
    }
   },
   "outputs": [
    {
     "name": "stdout",
     "output_type": "stream",
     "text": [
      "Untitled.ipynb\n",
      "Welding Defect Detection.v2i.yolov9.zip\n",
      "Сварные швы.zip\n"
     ]
    }
   ],
   "source": [
    "!ls"
   ]
  },
  {
   "cell_type": "code",
   "execution_count": 5,
   "id": "2bcfe0e9-1c91-42e3-af79-4d3ad2b4409a",
   "metadata": {
    "execution": {
     "iopub.execute_input": "2024-06-14T18:04:40.973616Z",
     "iopub.status.busy": "2024-06-14T18:04:40.972373Z",
     "iopub.status.idle": "2024-06-14T18:04:47.593905Z",
     "shell.execute_reply": "2024-06-14T18:04:47.593187Z",
     "shell.execute_reply.started": "2024-06-14T18:04:40.973574Z"
    }
   },
   "outputs": [],
   "source": [
    "import torch"
   ]
  },
  {
   "cell_type": "code",
   "execution_count": 6,
   "id": "895abcce-2db0-4667-85aa-aefd9c31e350",
   "metadata": {
    "execution": {
     "iopub.execute_input": "2024-06-14T18:04:56.808774Z",
     "iopub.status.busy": "2024-06-14T18:04:56.807472Z",
     "iopub.status.idle": "2024-06-14T18:04:56.830121Z",
     "shell.execute_reply": "2024-06-14T18:04:56.829454Z",
     "shell.execute_reply.started": "2024-06-14T18:04:56.808730Z"
    }
   },
   "outputs": [
    {
     "data": {
      "text/plain": [
       "'2.0.1+cu118'"
      ]
     },
     "execution_count": 6,
     "metadata": {},
     "output_type": "execute_result"
    }
   ],
   "source": [
    "torch.__version__"
   ]
  },
  {
   "cell_type": "code",
   "execution_count": null,
   "id": "da6191b7-29e5-49e1-a455-a68112a4e025",
   "metadata": {},
   "outputs": [],
   "source": []
  }
 ],
 "metadata": {
  "kernelspec": {
   "display_name": "DataSphere Kernel",
   "language": "python",
   "name": "python3"
  },
  "language_info": {
   "codemirror_mode": {
    "name": "ipython",
    "version": 3
   },
   "file_extension": ".py",
   "mimetype": "text/x-python",
   "name": "python",
   "nbconvert_exporter": "python",
   "pygments_lexer": "ipython3",
   "version": "3.10.12"
  }
 },
 "nbformat": 4,
 "nbformat_minor": 5
}
