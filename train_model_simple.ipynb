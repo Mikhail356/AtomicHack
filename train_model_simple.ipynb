{
 "cells": [
  {
   "cell_type": "code",
   "execution_count": 3,
   "id": "55c08bd4-8827-452c-8f74-4310792faa1d",
   "metadata": {
    "execution": {
     "iopub.execute_input": "2024-06-15T17:34:18.752488Z",
     "iopub.status.busy": "2024-06-15T17:34:18.751203Z",
     "iopub.status.idle": "2024-06-15T17:34:19.917542Z",
     "shell.execute_reply": "2024-06-15T17:34:19.916689Z",
     "shell.execute_reply.started": "2024-06-15T17:34:18.752438Z"
    },
    "tags": []
   },
   "outputs": [],
   "source": [
    "%pip install ultralytics"
   ]
  },
  {
   "cell_type": "code",
   "execution_count": 4,
   "id": "d25d8c66-d7f8-4c82-a67e-7205771cb399",
   "metadata": {
    "execution": {
     "iopub.execute_input": "2024-06-15T17:34:19.920224Z",
     "iopub.status.busy": "2024-06-15T17:34:19.918649Z",
     "iopub.status.idle": "2024-06-15T17:34:19.930083Z",
     "shell.execute_reply": "2024-06-15T17:34:19.929295Z",
     "shell.execute_reply.started": "2024-06-15T17:34:19.920175Z"
    }
   },
   "outputs": [
    {
     "name": "stdout",
     "output_type": "stream",
     "text": [
      "\n"
     ]
    }
   ],
   "source": [
    "from ultralytics import YOLO\n",
    "import torch"
   ]
  },
  {
   "cell_type": "markdown",
   "id": "6496b371-d6ca-4104-acb0-b33f68baa39a",
   "metadata": {},
   "source": [
    "#### Below you should specify data config, its content is self-explanatory.\n",
    "\n",
    "#### The notebook will produce the training logs, as well as the model location will be written there."
   ]
  },
  {
   "cell_type": "code",
   "execution_count": null,
   "id": "60273706-7a2d-4a97-ab75-03568d664f69",
   "metadata": {},
   "outputs": [],
   "source": [
    "DATA_CONFIG = \"welding_data.yml\""
   ]
  },
  {
   "cell_type": "code",
   "execution_count": 5,
   "id": "fa14a3ac-2961-4b32-9c22-a28eb78585de",
   "metadata": {
    "execution": {
     "iopub.execute_input": "2024-06-15T17:34:19.932367Z",
     "iopub.status.busy": "2024-06-15T17:34:19.931697Z",
     "iopub.status.idle": "2024-06-15T17:34:20.767998Z",
     "shell.execute_reply": "2024-06-15T17:34:20.767086Z",
     "shell.execute_reply.started": "2024-06-15T17:34:19.932335Z"
    },
    "tags": []
   },
   "outputs": [],
   "source": [
    "model = YOLO(\"yolov8x.pt\")\n",
    "results = model.train(\n",
    "    data=\"welding_data.yml\", \n",
    "    epochs=50, \n",
    "    batch=11, \n",
    "    workers = 12, \n",
    "    mosaic=False,\n",
    "    crop_fraction=0.8,\n",
    "    flipud=0.5,\n",
    "    degrees=10,\n",
    "    plots=True,\n",
    "    imgsz=1080\n",
    ")"
   ]
  },
  {
   "cell_type": "code",
   "execution_count": 12,
   "id": "c300fb22-f302-4d40-b2a2-677ed827f593",
   "metadata": {
    "execution": {
     "iopub.execute_input": "2024-06-15T17:35:45.302441Z",
     "iopub.status.busy": "2024-06-15T17:35:45.301194Z",
     "iopub.status.idle": "2024-06-15T17:35:45.351944Z",
     "shell.execute_reply": "2024-06-15T17:35:45.350735Z",
     "shell.execute_reply.started": "2024-06-15T17:35:45.302387Z"
    }
   },
   "outputs": [
    {
     "ename": "NameError",
     "evalue": "name 'answer' is not defined",
     "output_type": "error",
     "traceback": [
      "\u001b[0;31m---------------------------------------------------------------------------\u001b[0m",
      "\u001b[0;31mNameError\u001b[0m                                 Traceback (most recent call last)",
      "\u001b[0;32m/tmp/ipykernel_7722/70972131.py\u001b[0m in \u001b[0;36m<cell line: 1>\u001b[0;34m()\u001b[0m\n\u001b[0;32m----> 1\u001b[0;31m \u001b[0manswer\u001b[0m\u001b[0;34m\u001b[0m\u001b[0;34m\u001b[0m\u001b[0m\n\u001b[0m",
      "\u001b[0;31mNameError\u001b[0m: name 'answer' is not defined"
     ]
    }
   ],
   "source": [
    "answer "
   ]
  },
  {
   "cell_type": "code",
   "execution_count": null,
   "id": "1205c11d-ef4c-4799-9782-210c2b56356e",
   "metadata": {},
   "outputs": [],
   "source": []
  }
 ],
 "metadata": {
  "kernelspec": {
   "display_name": "Python 3 (ipykernel)",
   "language": "python",
   "name": "python3"
  },
  "language_info": {
   "codemirror_mode": {
    "name": "ipython",
    "version": 3
   },
   "file_extension": ".py",
   "mimetype": "text/x-python",
   "name": "python",
   "nbconvert_exporter": "python",
   "pygments_lexer": "ipython3",
   "version": "3.12.2"
  }
 },
 "nbformat": 4,
 "nbformat_minor": 5
}
